{
 "cells": [
  {
   "cell_type": "markdown",
   "id": "ae4b441f",
   "metadata": {},
   "source": [
    "# Single and Multiagent chatbot using Langgraph and Groq "
   ]
  },
  {
   "cell_type": "markdown",
   "id": "d796a7d2",
   "metadata": {},
   "source": []
  },
  {
   "cell_type": "markdown",
   "id": "9dac140e",
   "metadata": {},
   "source": [
    "Langgraph = LangGraph is a Python library built on top of LangChain for creating stateful, graph-based AI workflows. In it, nodes represent logic (e.g., LLM calls or functions) and edges define transitions, enabling developers to design and manage complex AI agents."
   ]
  },
  {
   "cell_type": "markdown",
   "id": "11d429ce",
   "metadata": {},
   "source": [
    "Groq = Groq is a company that builds ultra-fast AI hardware and APIs, using its Tensor Streaming Processor (TSP) to run large language models with low latency and high efficiency, often faster than GPUs."
   ]
  },
  {
   "cell_type": "markdown",
   "id": "0fde36ab",
   "metadata": {},
   "source": [
    "API = An API (Application Programming Interface) is a set of rules that lets different software applications communicate with each other.\n",
    "\n",
    "It allows one program to request data or services from another.\n",
    "\n",
    "Example: Your weather app uses an API to get data from a weather service.\n",
    "\n",
    "Simple definition:\n",
    "API = A bridge that lets software programs talk to each other."
   ]
  },
  {
   "cell_type": "markdown",
   "id": "cf3d2802",
   "metadata": {},
   "source": []
  },
  {
   "cell_type": "markdown",
   "id": "a2c21184",
   "metadata": {},
   "source": [
    "API Key= An API key is a unique code (like a password) used to authenticate and authorize access to an API.\n",
    "\n",
    "> It tells the API who you are (the client/app making the request).\n",
    "\n",
    "> It helps the provider track usage (limits, billing, analytics).\n",
    "\n",
    "> It prevents unauthorized access."
   ]
  },
  {
   "cell_type": "markdown",
   "id": "728735a4",
   "metadata": {},
   "source": [
    "1. State Definition\n",
    "\n",
    "What it is: Memory of the chatbot that stores conversation context, user info, session variables, and temporary flags.\n",
    "\n",
    "What it does:\n",
    "\n",
    "Tracks previous messages to maintain context in multi-turn conversations.\n",
    "\n",
    "Remembers user preferences, selections, or inputs.\n",
    "\n",
    "Helps the bot respond intelligently instead of starting from scratch each time.\n",
    "\n",
    "In multi-agent setups, can be local to an agent or shared globally across agents."
   ]
  },
  {
   "cell_type": "markdown",
   "id": "7e864819",
   "metadata": {},
   "source": [
    "2. Workflow Nodes\n",
    "\n",
    "What it is: Individual steps in the chatbot graph where each node performs a specific task.\n",
    "\n",
    "What it does:\n",
    "\n",
    "Handles user input processing, logic/decision-making, API calls, or LLM calls (via ChatGroq).\n",
    "\n",
    "Outputs results or determines the next node based on conditions.\n",
    "\n",
    "Modular design allows easy addition, removal, or reuse of nodes.\n",
    "\n",
    "Examples: Input node, Decision node, LLM node, API node, Output node."
   ]
  },
  {
   "cell_type": "markdown",
   "id": "3ffe9f2a",
   "metadata": {},
   "source": [
    "3. StateGraph Construction\n",
    "\n",
    "What it is: The structure connecting all nodes in a graph, defining the conversation flow.\n",
    "\n",
    "What it does:\n",
    "\n",
    "Connects nodes via edges representing possible transitions.\n",
    "\n",
    "Handles conditional branching based on user input or chatbot logic.\n",
    "\n",
    "Ensures the chatbot can follow multiple paths in a conversation.\n",
    "\n",
    "Supports single-agent (linear flow) or multi-agent (parallel/coordinated flows) setups."
   ]
  },
  {
   "cell_type": "markdown",
   "id": "467bbb6d",
   "metadata": {},
   "source": [
    "4. Visualisation\n",
    "\n",
    "What it is: Graphical representation of nodes and edges in the chatbot workflow.\n",
    "\n",
    "What it does:\n",
    "\n",
    "Helps developers understand, debug, and optimize conversation flow.\n",
    "\n",
    "Provides a clear view of how nodes interact and how the chatbot moves between them.\n",
    "\n",
    "Useful for multi-agent workflows to track coordination between agents."
   ]
  },
  {
   "cell_type": "markdown",
   "id": "c400bfe6",
   "metadata": {},
   "source": []
  },
  {
   "cell_type": "markdown",
   "id": "d234d861",
   "metadata": {},
   "source": [
    "5. Message Processing\n",
    "\n",
    "What it is: The mechanism for handling user messages within the chatbot workflow.\n",
    "\n",
    "What it does:\n",
    "\n",
    "Routes input to the correct node or agent.\n",
    "\n",
    "Applies preprocessing (e.g., cleaning text, intent detection).\n",
    "\n",
    "Calls LLM nodes (via ChatGroq) or decision nodes to generate responses.\n",
    "\n",
    "Updates the state after each interaction to maintain context."
   ]
  },
  {
   "cell_type": "markdown",
   "id": "63f38fe5",
   "metadata": {},
   "source": [
    "6. Result / Output\n",
    "\n",
    "What it is: The final response delivered to the user after processing.\n",
    "\n",
    "What it does:\n",
    "\n",
    "Combines outputs from LLMs, API calls, or decision logic.\n",
    "\n",
    "Can be simple text, structured data, or multi-agent aggregated responses.\n",
    "\n",
    "Ensures context-aware, coherent, and relevant replies."
   ]
  },
  {
   "cell_type": "markdown",
   "id": "13eb8d2c",
   "metadata": {},
   "source": []
  },
  {
   "cell_type": "markdown",
   "id": "72ebd3c5",
   "metadata": {},
   "source": [
    "7. Key Advantages\n",
    "\n",
    "Stateful memory ensures coherent multi-turn conversations.\n",
    "\n",
    "Graph-based design allows modular, flexible workflows.\n",
    "\n",
    "Supports both simple and complex multi-agent interactions.\n",
    "\n",
    "Fast LLM inference with ChatGroq."
   ]
  },
  {
   "cell_type": "markdown",
   "id": "a88a92d3",
   "metadata": {},
   "source": [
    "8. Technologies Used\n",
    "\n",
    "LangGraph: Graph-based workflow creation.\n",
    "\n",
    "ChatGroq / LLMs: Fast AI response generation.\n",
    "\n",
    "Python: Implementation language.\n",
    "\n",
    "Optional: APIs, databases, and visualization libraries for extended functionality."
   ]
  },
  {
   "cell_type": "markdown",
   "id": "c18afc9f",
   "metadata": {},
   "source": [
    "# pip install requirements"
   ]
  },
  {
   "cell_type": "code",
   "execution_count": 5,
   "id": "1fe005a9",
   "metadata": {},
   "outputs": [],
   "source": [
    "#pip install langgraph langsmith.\n",
    "#pip install langchain langchain_groq langchain_community."
   ]
  },
  {
   "cell_type": "markdown",
   "id": "ce4ecca8",
   "metadata": {},
   "source": [
    "Importing libraries"
   ]
  },
  {
   "cell_type": "code",
   "execution_count": 6,
   "id": "2098f269",
   "metadata": {},
   "outputs": [],
   "source": [
    "from langchain_groq import ChatGroq\n",
    "from typing import Annotated\n",
    "from typing_extensions import TypedDict\n",
    "from langgraph.graph import StateGraph, START, END\n",
    "from langgraph.graph.message import add_messages\n",
    "from IPython.display import Image, display"
   ]
  },
  {
   "cell_type": "markdown",
   "id": "358348b5",
   "metadata": {},
   "source": [
    "Summary of what snippet does:\n",
    ">Connects to the Groq LLM service using your API key.\n",
    "\n",
    ">Loads a specific LLM model for chatting (Gemma2-9b-It).\n",
    "\n",
    ">Sets up a LangSmith key for managing workflow and conversation state."
   ]
  },
  {
   "cell_type": "code",
   "execution_count": null,
   "id": "21f6bf48",
   "metadata": {},
   "outputs": [],
   "source": [
    "groq_api_key = 'gsk................kg'  #use  your own api key\n",
    "llm = ChatGroq(groq_api_key=groq_api_key, model_name=\"Gemma2-9b-It\")\n",
    "langsmith='lsv..................dc'"
   ]
  },
  {
   "cell_type": "markdown",
   "id": "e0ff1dd1",
   "metadata": {},
   "source": [
    "The llm object represents your chatbot AI model instance.\n",
    "\n",
    "It connects to the Groq LLM service using your API key and the specified model (Gemma2-9b-It).\n",
    "\n",
    "You can call methods on llm to send user messages and receive AI-generated responses, making it the core interface for your chatbot.\n",
    "\n",
    " In short: llm is your chatbot “brain” in the code."
   ]
  },
  {
   "cell_type": "code",
   "execution_count": 8,
   "id": "479238c4",
   "metadata": {},
   "outputs": [
    {
     "data": {
      "text/plain": [
       "ChatGroq(client=<groq.resources.chat.completions.Completions object at 0x000001D6120CC3B0>, async_client=<groq.resources.chat.completions.AsyncCompletions object at 0x000001D6120F81D0>, model_name='Gemma2-9b-It', model_kwargs={}, groq_api_key=SecretStr('**********'))"
      ]
     },
     "execution_count": 8,
     "metadata": {},
     "output_type": "execute_result"
    }
   ],
   "source": [
    "llm=ChatGroq(groq_api_key=groq_api_key, model_name=\"Gemma2-9b-It\")\n",
    "llm"
   ]
  },
  {
   "cell_type": "markdown",
   "id": "aadcadf0",
   "metadata": {},
   "source": [
    "State defines a typed dictionary specifying the structure of the chatbot’s state.\n",
    "\n",
    "The messages key holds a list of chat messages, with Annotated[list, add_messages] ensuring new messages are appended rather than replacing existing ones.\n",
    "\n",
    "graph_builder = StateGraph(State) initializes a stateful workflow graph using this state schema.\n",
    "\n",
    "This configuration enables the chatbot to maintain conversation history and manage state across interactions efficiently."
   ]
  },
  {
   "cell_type": "code",
   "execution_count": 9,
   "id": "30626042",
   "metadata": {},
   "outputs": [],
   "source": [
    "class State(TypedDict):\n",
    "  # Messages have the type \"list\". The `add_messages` function\n",
    "    # in the annotation defines how this state key should be updated\n",
    "    # (in this case, it appends messages to the list, rather than overwriting them)\n",
    "  messages:Annotated[list,add_messages]\n",
    "\n",
    "graph_builder=StateGraph(State)"
   ]
  },
  {
   "cell_type": "markdown",
   "id": "171754f6",
   "metadata": {},
   "source": [
    "graph_builder is the chatbot’s workflow manager.\n",
    "\n",
    "It keeps track of the conversation state (like the list of messages).\n",
    "\n",
    "It helps the chatbot run through its steps while remembering past messages.\n",
    "\n",
    "Think of it as the engine that controls the chatbot and keeps context."
   ]
  },
  {
   "cell_type": "code",
   "execution_count": 10,
   "id": "1d0d55ea",
   "metadata": {},
   "outputs": [
    {
     "data": {
      "text/plain": [
       "<langgraph.graph.state.StateGraph at 0x1d60f655130>"
      ]
     },
     "execution_count": 10,
     "metadata": {},
     "output_type": "execute_result"
    }
   ],
   "source": [
    "graph_builder\n"
   ]
  },
  {
   "cell_type": "code",
   "execution_count": null,
   "id": "9fb04f6d",
   "metadata": {},
   "outputs": [],
   "source": [
    "def chatbot(state:State):\n",
    "  return {\"messages\":llm.invoke(state['messages'])}  #This function sends the current conversation messages to the AI model and returns the chatbot’s reply to update the conversation."
   ]
  },
  {
   "cell_type": "code",
   "execution_count": 12,
   "id": "4a1ea131",
   "metadata": {},
   "outputs": [
    {
     "data": {
      "text/plain": [
       "<langgraph.graph.state.StateGraph at 0x1d60f655130>"
      ]
     },
     "execution_count": 12,
     "metadata": {},
     "output_type": "execute_result"
    }
   ],
   "source": [
    "graph_builder.add_node(\"chatbot\",chatbot)  #It adds a node named \"chatbot\" to the workflow, linking it to the chatbot logic so it runs during the conversation."
   ]
  },
  {
   "cell_type": "code",
   "execution_count": 13,
   "id": "458e83d0",
   "metadata": {},
   "outputs": [
    {
     "data": {
      "text/plain": [
       "<langgraph.graph.state.StateGraph at 0x1d60f655130>"
      ]
     },
     "execution_count": 13,
     "metadata": {},
     "output_type": "execute_result"
    }
   ],
   "source": [
    "graph_builder"
   ]
  },
  {
   "cell_type": "code",
   "execution_count": 14,
   "id": "0f1c1f75",
   "metadata": {},
   "outputs": [
    {
     "data": {
      "text/plain": [
       "<langgraph.graph.state.StateGraph at 0x1d60f655130>"
      ]
     },
     "execution_count": 14,
     "metadata": {},
     "output_type": "execute_result"
    }
   ],
   "source": [
    "graph_builder.add_edge(START,\"chatbot\") #These lines set the chatbot’s flow to start, generate a response, and then end.\n",
    "graph_builder.add_edge(\"chatbot\",END)  #They define the sequence of steps in the conversation workflow."
   ]
  },
  {
   "cell_type": "code",
   "execution_count": null,
   "id": "9162ec75",
   "metadata": {},
   "outputs": [],
   "source": [
    "graph=graph_builder.compile() \n",
    "#This line compiles the workflow graph:\n",
    "#graph = graph_builder.compile() takes all the nodes and edges we defined.\n",
    "#It creates a ready-to-run chatbot workflow that can process messages and maintain state."
   ]
  },
  {
   "cell_type": "code",
   "execution_count": 16,
   "id": "8e5c50ad",
   "metadata": {},
   "outputs": [
    {
     "data": {
      "image/png": "[encoded data removed]",
      "text/plain": [
       "<IPython.core.display.Image object>"
      ]
     },
     "metadata": {},
     "output_type": "display_data"
    }
   ],
   "source": [
    "try:\n",
    "  display(Image(graph.get_graph().draw_mermaid_png()))\n",
    "except Exception:\n",
    "  pass \n",
    "\n",
    "#graph.get_graph().draw_mermaid_png() generates a graph image (Mermaid format) showing nodes and edges.\n",
    "#display(Image(...)) shows the image in the notebook.\n",
    "#The try-except ensures that if there’s an error (e.g., rendering fails), the program continues without crashing."
   ]
  },
  {
   "cell_type": "markdown",
   "id": "4abf9191",
   "metadata": {},
   "source": []
  },
  {
   "cell_type": "code",
   "execution_count": 17,
   "id": "c00511e7",
   "metadata": {},
   "outputs": [
    {
     "name": "stdout",
     "output_type": "stream",
     "text": [
      "dict_values([{'messages': AIMessage(content=\"Generative AI has a tremendously broad scope, impacting numerous industries and aspects of our lives. Here's a breakdown:\\n\\n**Creative Industries:**\\n\\n* **Art & Design:** Generating paintings, sculptures, logos, website designs, and other visual content.\\n* **Music & Audio:** Composing original music, creating sound effects, generating voiceovers, and even mimicking specific artists' styles.\\n* **Writing & Storytelling:**  Crafting stories, poems, articles, marketing copy, dialogue for movies and games, and even generating code.\\n\\n**Technology & Development:**\\n\\n* **Code Generation:** Automating code writing in various programming languages, speeding up development processes.\\n* **Data Augmentation:** Creating synthetic data to train machine learning models, addressing data scarcity issues.\\n* **Software Development:** Assisting in building and testing software, automating repetitive tasks.\\n\\n**Business & Marketing:**\\n\\n* **Personalized Marketing:** Tailoring marketing messages and content to individual customer preferences.\\n* **Chatbots & Customer Service:** Creating AI-powered chatbots for handling customer queries and providing support.\\n* **Content Creation:** Generating product descriptions, social media posts, blog articles, and other marketing materials.\\n\\n**Research & Education:**\\n\\n* **Scientific Discovery:** Accelerating research by generating hypotheses, analyzing data, and simulating experiments.\\n* **Education & Learning:** Creating personalized learning experiences, generating educational content, and assisting with tutoring.\\n\\n**Other Applications:**\\n\\n* **Healthcare:** Generating synthetic medical images for training AI models, assisting in drug discovery.\\n* **Gaming:** Creating realistic non-player characters (NPCs), generating game environments, and enhancing gameplay experiences.\\n* **Accessibility:** Generating alternative text for images, converting text to speech, and facilitating communication for people with disabilities.\\n\\n**Ethical Considerations:**\\n\\n* **Bias and Fairness:** Generative AI models can inherit and amplify biases present in the training data, leading to unfair or discriminatory outputs.\\n* **Misinformation and Deepfakes:** The ability to create realistic fake content raises concerns about its potential for misuse in spreading misinformation and manipulating public opinion.\\n* **Copyright and Intellectual Property:** The ownership and copyright of AI-generated content are complex and still under debate.\\n* **Job displacement:** Automation of creative tasks may lead to job losses in certain industries.\\n\\n\\nIt's important to remember that generative AI is a rapidly evolving field. Its scope will continue to expand as technology advances, bringing both exciting opportunities and challenges.\\n\", additional_kwargs={}, response_metadata={'token_usage': {'completion_tokens': 505, 'prompt_tokens': 16, 'total_tokens': 521, 'completion_time': 0.918181818, 'prompt_time': 0.001641939, 'queue_time': 0.27268002, 'total_time': 0.919823757}, 'model_name': 'Gemma2-9b-It', 'system_fingerprint': 'fp_10c08bf97d', 'service_tier': 'on_demand', 'finish_reason': 'stop', 'logprobs': None}, id='run--1c01eda2-fabf-4e06-99a8-d326281cd0cc-0', usage_metadata={'input_tokens': 16, 'output_tokens': 505, 'total_tokens': 521})}])\n",
      "content=\"Generative AI has a tremendously broad scope, impacting numerous industries and aspects of our lives. Here's a breakdown:\\n\\n**Creative Industries:**\\n\\n* **Art & Design:** Generating paintings, sculptures, logos, website designs, and other visual content.\\n* **Music & Audio:** Composing original music, creating sound effects, generating voiceovers, and even mimicking specific artists' styles.\\n* **Writing & Storytelling:**  Crafting stories, poems, articles, marketing copy, dialogue for movies and games, and even generating code.\\n\\n**Technology & Development:**\\n\\n* **Code Generation:** Automating code writing in various programming languages, speeding up development processes.\\n* **Data Augmentation:** Creating synthetic data to train machine learning models, addressing data scarcity issues.\\n* **Software Development:** Assisting in building and testing software, automating repetitive tasks.\\n\\n**Business & Marketing:**\\n\\n* **Personalized Marketing:** Tailoring marketing messages and content to individual customer preferences.\\n* **Chatbots & Customer Service:** Creating AI-powered chatbots for handling customer queries and providing support.\\n* **Content Creation:** Generating product descriptions, social media posts, blog articles, and other marketing materials.\\n\\n**Research & Education:**\\n\\n* **Scientific Discovery:** Accelerating research by generating hypotheses, analyzing data, and simulating experiments.\\n* **Education & Learning:** Creating personalized learning experiences, generating educational content, and assisting with tutoring.\\n\\n**Other Applications:**\\n\\n* **Healthcare:** Generating synthetic medical images for training AI models, assisting in drug discovery.\\n* **Gaming:** Creating realistic non-player characters (NPCs), generating game environments, and enhancing gameplay experiences.\\n* **Accessibility:** Generating alternative text for images, converting text to speech, and facilitating communication for people with disabilities.\\n\\n**Ethical Considerations:**\\n\\n* **Bias and Fairness:** Generative AI models can inherit and amplify biases present in the training data, leading to unfair or discriminatory outputs.\\n* **Misinformation and Deepfakes:** The ability to create realistic fake content raises concerns about its potential for misuse in spreading misinformation and manipulating public opinion.\\n* **Copyright and Intellectual Property:** The ownership and copyright of AI-generated content are complex and still under debate.\\n* **Job displacement:** Automation of creative tasks may lead to job losses in certain industries.\\n\\n\\nIt's important to remember that generative AI is a rapidly evolving field. Its scope will continue to expand as technology advances, bringing both exciting opportunities and challenges.\\n\" additional_kwargs={} response_metadata={'token_usage': {'completion_tokens': 505, 'prompt_tokens': 16, 'total_tokens': 521, 'completion_time': 0.918181818, 'prompt_time': 0.001641939, 'queue_time': 0.27268002, 'total_time': 0.919823757}, 'model_name': 'Gemma2-9b-It', 'system_fingerprint': 'fp_10c08bf97d', 'service_tier': 'on_demand', 'finish_reason': 'stop', 'logprobs': None} id='run--1c01eda2-fabf-4e06-99a8-d326281cd0cc-0' usage_metadata={'input_tokens': 16, 'output_tokens': 505, 'total_tokens': 521}\n",
      "Assistant: Generative AI has a tremendously broad scope, impacting numerous industries and aspects of our lives. Here's a breakdown:\n",
      "\n",
      "**Creative Industries:**\n",
      "\n",
      "* **Art & Design:** Generating paintings, sculptures, logos, website designs, and other visual content.\n",
      "* **Music & Audio:** Composing original music, creating sound effects, generating voiceovers, and even mimicking specific artists' styles.\n",
      "* **Writing & Storytelling:**  Crafting stories, poems, articles, marketing copy, dialogue for movies and games, and even generating code.\n",
      "\n",
      "**Technology & Development:**\n",
      "\n",
      "* **Code Generation:** Automating code writing in various programming languages, speeding up development processes.\n",
      "* **Data Augmentation:** Creating synthetic data to train machine learning models, addressing data scarcity issues.\n",
      "* **Software Development:** Assisting in building and testing software, automating repetitive tasks.\n",
      "\n",
      "**Business & Marketing:**\n",
      "\n",
      "* **Personalized Marketing:** Tailoring marketing messages and content to individual customer preferences.\n",
      "* **Chatbots & Customer Service:** Creating AI-powered chatbots for handling customer queries and providing support.\n",
      "* **Content Creation:** Generating product descriptions, social media posts, blog articles, and other marketing materials.\n",
      "\n",
      "**Research & Education:**\n",
      "\n",
      "* **Scientific Discovery:** Accelerating research by generating hypotheses, analyzing data, and simulating experiments.\n",
      "* **Education & Learning:** Creating personalized learning experiences, generating educational content, and assisting with tutoring.\n",
      "\n",
      "**Other Applications:**\n",
      "\n",
      "* **Healthcare:** Generating synthetic medical images for training AI models, assisting in drug discovery.\n",
      "* **Gaming:** Creating realistic non-player characters (NPCs), generating game environments, and enhancing gameplay experiences.\n",
      "* **Accessibility:** Generating alternative text for images, converting text to speech, and facilitating communication for people with disabilities.\n",
      "\n",
      "**Ethical Considerations:**\n",
      "\n",
      "* **Bias and Fairness:** Generative AI models can inherit and amplify biases present in the training data, leading to unfair or discriminatory outputs.\n",
      "* **Misinformation and Deepfakes:** The ability to create realistic fake content raises concerns about its potential for misuse in spreading misinformation and manipulating public opinion.\n",
      "* **Copyright and Intellectual Property:** The ownership and copyright of AI-generated content are complex and still under debate.\n",
      "* **Job displacement:** Automation of creative tasks may lead to job losses in certain industries.\n",
      "\n",
      "\n",
      "It's important to remember that generative AI is a rapidly evolving field. Its scope will continue to expand as technology advances, bringing both exciting opportunities and challenges.\n",
      "\n",
      "Good Bye\n"
     ]
    }
   ],
   "source": [
    "while True:\n",
    "  user_input=input(\"User: \")\n",
    "  if user_input.lower() in [\"quit\",\"q\"]:\n",
    "    print(\"Good Bye\")\n",
    "    break\n",
    "  for event in graph.stream({'messages':(\"user\",user_input)}):\n",
    "    print(event.values())\n",
    "    for value in event.values():\n",
    "      print(value['messages'])\n",
    "      print(\"Assistant:\",value[\"messages\"].content)\n",
    "      \n",
    "#Here’s what this code does, step by step:\n",
    "#Infinite loop (while True) lets the chatbot keep running until the user decides to quit.\n",
    "#user_input = input(\"User: \") → takes a message from the user.\n",
    "#If the input is \"quit\" or \"q\", the loop breaks and prints \"Good Bye\".\n",
    "#graph.stream({'messages':(\"user\",user_input)}) → sends the user input into the stateful workflow graph.\n",
    "#The for event in graph.stream(...) loop streams responses from the graph as they are generated.\n",
    "#event.values() contains the updated state from the chatbot.\n",
    "#print(value['messages']) prints the raw message object, and\n",
    "#print(\"Assistant:\", value[\"messages\"].content) prints the AI-generated response in a readable format.\n",
    "#In short: This code lets the user chat with the AI in real-time, maintaining conversation history and displaying responses."
   ]
  },
  {
   "cell_type": "markdown",
   "id": "b1fa1b50",
   "metadata": {},
   "source": [
    "# Now, we will proceed to implement the multi-agent chatbot, leveraging the previously imported libraries and setup."
   ]
  },
  {
   "cell_type": "code",
   "execution_count": null,
   "id": "008c90b7",
   "metadata": {},
   "outputs": [],
   "source": [
    "class State(TypedDict):\n",
    "    messages: Annotated[list, add_messages]\n",
    "    sentiment: str\n",
    "\n",
    "# 1. Preprocessing Node\n",
    "def preprocess(state: State) -> State:\n",
    "    cleaned = state[\"messages\"][-1].content.strip()\n",
    "    state[\"messages\"][-1].content = cleaned\n",
    "    return state\n",
    "\n",
    "# 2. Sentiment Analysis Node\n",
    "def analyze_sentiment(state: State) -> State:\n",
    "    msg = state[\"messages\"][-1].content\n",
    "    state[\"sentiment\"] = \"positive\" if \"good\" in msg else \"neutral\"\n",
    "    return state\n",
    "\n",
    "# 3. Chatbot Node\n",
    "def chatbot(state: State) -> State:\n",
    "    return {\"messages\": llm.invoke(state['messages'])}\n",
    "\n",
    "# 4. Logging Node\n",
    "def logger(state: State) -> State:\n",
    "    print(f\"LOG: {state['messages'][-1].content}, Sentiment: {state.get('sentiment')}\")\n",
    "    return state\n",
    "\n",
    "#The code defines a multi-agent chatbot workflow using a shared State to maintain conversation context. The State stores all messages and the latest sentiment. Each function acts as a workflow node:\n",
    "#Preprocessing – cleans the latest message by removing extra spaces.\n",
    "#Sentiment Analysis – evaluates the message and assigns a simple sentiment label (positive or neutral).\n",
    "#Chatbot – sends messages to the LLM (llm) to generate AI responses, updating the state.\n",
    "#Logging – prints the latest message and its sentiment for monitoring or debugging.\n",
    "#In short: this workflow enables a chatbot to process user messages, analyze sentiment, generate responses, and maintain conversation history, all in a modular, stateful manner."
   ]
  },
  {
   "cell_type": "code",
   "execution_count": 19,
   "id": "72dacd73",
   "metadata": {},
   "outputs": [
    {
     "data": {
      "text/plain": [
       "<langgraph.graph.state.StateGraph at 0x1d610c26120>"
      ]
     },
     "execution_count": 19,
     "metadata": {},
     "output_type": "execute_result"
    }
   ],
   "source": [
    "# Build the graph\n",
    "builder = StateGraph(State)\n",
    "builder.add_node(\"preprocess\", preprocess)\n",
    "builder.add_node(\"analyze_sentiment\", analyze_sentiment)  # renamed\n",
    "builder.add_node(\"chatbot\", chatbot)\n",
    "builder.add_node(\"logger\", logger)\n",
    "\n",
    "#This code creates the multi-agent chatbot workflow:\n",
    "#builder = StateGraph(State)\n",
    "#Sets up a stateful workflow using the State structure.\n",
    "#builder.add_node(\"preprocess\", preprocess)\n",
    "#Adds the preprocessing step to clean user messages.\n",
    "#builder.add_node(\"analyze_sentiment\", analyze_sentiment)\n",
    "#Adds the sentiment analysis step to check the message mood.\n",
    "#builder.add_node(\"chatbot\", chatbot)\n",
    "#Adds the chatbot step to generate AI responses.\n",
    "#builder.add_node(\"logger\", logger)\n",
    "#Adds the logging step to print messages and sentiment for tracking.\n",
    "#In short: this code sets up all the steps (nodes) of the chatbot workflow so it can run in order and keep conversation history."
   ]
  },
  {
   "cell_type": "code",
   "execution_count": 20,
   "id": "3c062ef0",
   "metadata": {},
   "outputs": [
    {
     "data": {
      "text/plain": [
       "<langgraph.graph.state.StateGraph at 0x1d610c26120>"
      ]
     },
     "execution_count": 20,
     "metadata": {},
     "output_type": "execute_result"
    }
   ],
   "source": [
    "# Define flow\n",
    "builder.add_edge(START, \"preprocess\")\n",
    "builder.add_edge(\"preprocess\", \"analyze_sentiment\")  # renamed\n",
    "builder.add_edge(\"analyze_sentiment\", \"chatbot\")     # renamed\n",
    "builder.add_edge(\"chatbot\", \"logger\")\n",
    "builder.add_edge(\"logger\", END)\n",
    "\n",
    "#This sets the sequence of all chatbot steps so messages flow through preprocessing → sentiment analysis → AI response → logging → end."
   ]
  },
  {
   "cell_type": "code",
   "execution_count": null,
   "id": "8127900f",
   "metadata": {},
   "outputs": [],
   "source": [
    "graph = builder.compile()\n",
    "#This line compiles the workflow graph:\n",
    "#graph = graph_builder.compile() takes all the nodes and edges we defined.\n",
    "#It creates a ready-to-run chatbot workflow that can process messages and maintain state."
   ]
  },
  {
   "cell_type": "code",
   "execution_count": null,
   "id": "305c9d6d",
   "metadata": {},
   "outputs": [],
   "source": [
    "# Draw the graph\n",
    "try:\n",
    "    display(Image(graph.get_graph().draw_mermaid_png()))\n",
    "except Exception:\n",
    "    pass\n",
    "#it visually represents the workflow of the multi-agent chatbot safely."
   ]
  },
  {
   "cell_type": "code",
   "execution_count": 26,
   "id": "2a960eed",
   "metadata": {},
   "outputs": [
    {
     "name": "stdout",
     "output_type": "stream",
     "text": [
      "LOG: Hello Kuldeep! 👋\n",
      "\n",
      "It's nice to meet you. What can I do for you today? 😊\n",
      ", Sentiment: neutral\n",
      "Final State: {'messages': [HumanMessage(content='hello kuldeep here.', additional_kwargs={}, response_metadata={}, id='11617d04-ad56-424a-8450-a34e442b323d'), AIMessage(content=\"Hello Kuldeep! 👋\\n\\nIt's nice to meet you. What can I do for you today? 😊\\n\", additional_kwargs={}, response_metadata={'token_usage': {'completion_tokens': 26, 'prompt_tokens': 14, 'total_tokens': 40, 'completion_time': 0.047272727, 'prompt_time': 0.001501609, 'queue_time': 0.270479631, 'total_time': 0.048774336}, 'model_name': 'Gemma2-9b-It', 'system_fingerprint': 'fp_10c08bf97d', 'service_tier': 'on_demand', 'finish_reason': 'stop', 'logprobs': None}, id='run--25483205-249f-4566-84de-804bb9f174c7-0', usage_metadata={'input_tokens': 14, 'output_tokens': 26, 'total_tokens': 40})], 'sentiment': 'neutral'}\n",
      "Chatbot's response: Hello Kuldeep! 👋\n",
      "\n",
      "It's nice to meet you. What can I do for you today? 😊\n",
      "\n",
      "Detected Sentiment: neutral\n",
      "LOG: As an AI, I don't experience weather.  \n",
      "\n",
      "But I hear you! It sounds like you're having a scorcher.  \n",
      "\n",
      "Stay cool and hydrated! 🥵  Do you have any fun plans to beat the heat? ☀️🍦🏊‍♀️\n",
      "\n",
      ", Sentiment: neutral\n",
      "Final State 2: {'messages': [HumanMessage(content='weather is so hot today', additional_kwargs={}, response_metadata={}, id='2a94a547-20ab-43f0-9933-15425892bdbd'), AIMessage(content=\"As an AI, I don't experience weather.  \\n\\nBut I hear you! It sounds like you're having a scorcher.  \\n\\nStay cool and hydrated! 🥵  Do you have any fun plans to beat the heat? ☀️🍦🏊\\u200d♀️\\n\\n\", additional_kwargs={}, response_metadata={'token_usage': {'completion_tokens': 59, 'prompt_tokens': 14, 'total_tokens': 73, 'completion_time': 0.107272727, 'prompt_time': 0.00124781, 'queue_time': 0.290465968, 'total_time': 0.108520537}, 'model_name': 'Gemma2-9b-It', 'system_fingerprint': 'fp_10c08bf97d', 'service_tier': 'on_demand', 'finish_reason': 'stop', 'logprobs': None}, id='run--1f38bbcc-67d6-4c74-ac83-b8e2aaa06ad4-0', usage_metadata={'input_tokens': 14, 'output_tokens': 59, 'total_tokens': 73})], 'sentiment': 'neutral'}\n",
      "Chatbot's response 2: As an AI, I don't experience weather.  \n",
      "\n",
      "But I hear you! It sounds like you're having a scorcher.  \n",
      "\n",
      "Stay cool and hydrated! 🥵  Do you have any fun plans to beat the heat? ☀️🍦🏊‍♀️\n",
      "\n",
      "\n",
      "Detected Sentiment 2: neutral\n"
     ]
    },
    {
     "data": {
      "text/plain": [
       "'This section runs the chatbot workflow with user messages and prints the results:\\n\\ninput_message = \"hello kuldeep here.\"\\n\\nSets the first user message.\\n\\nfinal_state = graph.invoke({\"messages\": (\"user\", input_message)})\\n\\nSends the message through the multi-agent workflow graph.\\n\\nEach node (preprocess, sentiment analysis, chatbot, logger) runs in order.\\n\\nprint(\"Final State:\", final_state)\\n\\nShows the updated state after the workflow, including messages and sentiment.\\n\\nprint(\"Chatbot\\'s response:\", final_state[\\'messages\\'][-1].content)\\n\\nPrints the AI-generated reply to the user message.\\n\\nprint(\"Detected Sentiment:\", final_state[\\'sentiment\\'])\\n\\nShows the sentiment detected for the message.\\n\\nRepeats the process for a second message (input_message_2) to show stateful conversation handling.\\n\\nIn short: this code invokes the multi-agent chatbot, generates AI responses, detects sentiment, and prints the results for each user message.'"
      ]
     },
     "execution_count": 26,
     "metadata": {},
     "output_type": "execute_result"
    }
   ],
   "source": [
    "# Invoke the graph\n",
    "input_message = \"hello kuldeep here.\"\n",
    "final_state = graph.invoke({\"messages\": (\"user\", input_message)})\n",
    "\n",
    "# Print the final state\n",
    "print(\"Final State:\", final_state)\n",
    "print(\"Chatbot's response:\", final_state['messages'][-1].content)\n",
    "print(\"Detected Sentiment:\", final_state['sentiment'])\n",
    "\n",
    "input_message_2 = \"weather is so hot today\"\n",
    "final_state_2 = graph.invoke({\"messages\": (\"user\", input_message_2)})\n",
    "print(\"Final State 2:\", final_state_2)\n",
    "print(\"Chatbot's response 2:\", final_state_2['messages'][-1].content)\n",
    "print(\"Detected Sentiment 2:\", final_state_2['sentiment'])\n",
    "\n",
    "\n",
    "'''This section runs the chatbot workflow with user messages and prints the results:\n",
    "input_message = \"hello kuldeep here.\"\n",
    "Sets the first user message.\n",
    "final_state = graph.invoke({\"messages\": (\"user\", input_message)})\n",
    "Sends the message through the multi-agent workflow graph.\n",
    "Each node (preprocess, sentiment analysis, chatbot, logger) runs in order.\n",
    "print(\"Final State:\", final_state)\n",
    "Shows the updated state after the workflow, including messages and sentiment.\n",
    "print(\"Chatbot's response:\", final_state['messages'][-1].content)\n",
    "Prints the AI-generated reply to the user message.\n",
    "print(\"Detected Sentiment:\", final_state['sentiment'])\n",
    "Shows the sentiment detected for the message.\n",
    "Repeats the process for a second message (input_message_2) to show stateful conversation handling.\n",
    "\n",
    "In short: this code invokes the multi-agent chatbot, generates AI responses, detects sentiment, and prints the results for each user message.'''"
   ]
  },
  {
   "cell_type": "markdown",
   "id": "6b5a47fd",
   "metadata": {},
   "source": [
    "# Implemented single-agent and multi-agent stateful chatbots with LangGraph and Groq, supporting message preprocessing, AI responses, sentiment analysis, logging, and conversation state management."
   ]
  },
  {
   "cell_type": "code",
   "execution_count": null,
   "id": "f404c410",
   "metadata": {},
   "outputs": [],
   "source": []
  }
 ],
 "metadata": {
  "kernelspec": {
   "display_name": "virtual_env",
   "language": "python",
   "name": "python3"
  },
  "language_info": {
   "codemirror_mode": {
    "name": "ipython",
    "version": 3
   },
   "file_extension": ".py",
   "mimetype": "text/x-python",
   "name": "python",
   "nbconvert_exporter": "python",
   "pygments_lexer": "ipython3",
   "version": "3.12.7"
  }
 },
 "nbformat": 4,
 "nbformat_minor": 5
}
