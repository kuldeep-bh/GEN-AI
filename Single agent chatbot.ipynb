{
 "cells": [
  {
   "cell_type": "code",
   "execution_count": 15,
   "id": "e789e4d5",
   "metadata": {},
   "outputs": [],
   "source": [
    "#pip install langgraph langsmith\n",
    "#pip install langchain langchain_groq langchain_community"
   ]
  },
  {
   "cell_type": "code",
   "execution_count": null,
   "id": "2f4082b9",
   "metadata": {},
   "outputs": [],
   "source": [
    "groq_api_key='gs.................kg'\n",
    "langsmith='l................dc'"
   ]
  },
  {
   "cell_type": "code",
   "execution_count": 17,
   "id": "3624e9e2",
   "metadata": {},
   "outputs": [],
   "source": [
    "from langchain_groq import ChatGroq"
   ]
  },
  {
   "cell_type": "code",
   "execution_count": 18,
   "id": "4cb2b104",
   "metadata": {},
   "outputs": [
    {
     "data": {
      "text/plain": [
       "ChatGroq(client=<groq.resources.chat.completions.Completions object at 0x000001F0489E86E0>, async_client=<groq.resources.chat.completions.AsyncCompletions object at 0x000001F0489EA690>, model_name='Gemma2-9b-It', model_kwargs={}, groq_api_key=SecretStr('**********'))"
      ]
     },
     "execution_count": 18,
     "metadata": {},
     "output_type": "execute_result"
    }
   ],
   "source": [
    "llm=ChatGroq(groq_api_key=groq_api_key, model_name=\"Gemma2-9b-It\")\n",
    "llm"
   ]
  },
  {
   "cell_type": "code",
   "execution_count": 19,
   "id": "99bdf0e4",
   "metadata": {},
   "outputs": [],
   "source": [
    "from typing import Annotated\n",
    "from typing_extensions import TypedDict\n",
    "from langgraph.graph import StateGraph,START,END\n",
    "from langgraph.graph.message import add_messages"
   ]
  },
  {
   "cell_type": "code",
   "execution_count": 20,
   "id": "5f6ef432",
   "metadata": {},
   "outputs": [],
   "source": [
    "class State(TypedDict):\n",
    "  # Messages have the type \"list\". The `add_messages` function\n",
    "    # in the annotation defines how this state key should be updated\n",
    "    # (in this case, it appends messages to the list, rather than overwriting them)\n",
    "  messages:Annotated[list,add_messages]\n",
    "\n",
    "graph_builder=StateGraph(State)"
   ]
  },
  {
   "cell_type": "code",
   "execution_count": 21,
   "id": "d6caf748",
   "metadata": {},
   "outputs": [
    {
     "data": {
      "text/plain": [
       "<langgraph.graph.state.StateGraph at 0x1f046fba3c0>"
      ]
     },
     "execution_count": 21,
     "metadata": {},
     "output_type": "execute_result"
    }
   ],
   "source": [
    "graph_builder"
   ]
  },
  {
   "cell_type": "code",
   "execution_count": 22,
   "id": "b1e7603d",
   "metadata": {},
   "outputs": [],
   "source": [
    "def chatbot(state:State):\n",
    "  return {\"messages\":llm.invoke(state['messages'])}"
   ]
  },
  {
   "cell_type": "code",
   "execution_count": 23,
   "id": "a0be97d4",
   "metadata": {},
   "outputs": [
    {
     "data": {
      "text/plain": [
       "<langgraph.graph.state.StateGraph at 0x1f046fba3c0>"
      ]
     },
     "execution_count": 23,
     "metadata": {},
     "output_type": "execute_result"
    }
   ],
   "source": [
    "graph_builder.add_node(\"chatbot\",chatbot)"
   ]
  },
  {
   "cell_type": "code",
   "execution_count": 24,
   "id": "9faf5a43",
   "metadata": {},
   "outputs": [
    {
     "data": {
      "text/plain": [
       "<langgraph.graph.state.StateGraph at 0x1f046fba3c0>"
      ]
     },
     "execution_count": 24,
     "metadata": {},
     "output_type": "execute_result"
    }
   ],
   "source": [
    "graph_builder"
   ]
  },
  {
   "cell_type": "code",
   "execution_count": 25,
   "id": "93dac455",
   "metadata": {},
   "outputs": [
    {
     "data": {
      "text/plain": [
       "<langgraph.graph.state.StateGraph at 0x1f046fba3c0>"
      ]
     },
     "execution_count": 25,
     "metadata": {},
     "output_type": "execute_result"
    }
   ],
   "source": [
    "graph_builder.add_edge(START,\"chatbot\")\n",
    "graph_builder.add_edge(\"chatbot\",END)"
   ]
  },
  {
   "cell_type": "code",
   "execution_count": 26,
   "id": "18c3dcd1",
   "metadata": {},
   "outputs": [],
   "source": [
    "graph=graph_builder.compile()"
   ]
  },
  {
   "cell_type": "code",
   "execution_count": 27,
   "id": "86fb8807",
   "metadata": {},
   "outputs": [
    {
     "data": {
      "image/png": "[encoded data removed]",
      "text/plain": [
       "<IPython.core.display.Image object>"
      ]
     },
     "metadata": {},
     "output_type": "display_data"
    }
   ],
   "source": [
    "from IPython.display import Image, display\n",
    "try:\n",
    "  display(Image(graph.get_graph().draw_mermaid_png()))\n",
    "except Exception:\n",
    "  pass "
   ]
  },
  {
   "cell_type": "code",
   "execution_count": 28,
   "id": "dbc49503",
   "metadata": {},
   "outputs": [
    {
     "name": "stdout",
     "output_type": "stream",
     "text": [
      "dict_values([{'messages': AIMessage(content='The scope of data science is incredibly broad and continues to expand rapidly. It touches nearly every aspect of modern life and business. Here\\'s a breakdown of its key areas:\\n\\n**1. Business and Industry:**\\n\\n* **Marketing & Sales:** Customer segmentation, personalized recommendations, churn prediction, campaign optimization.\\n* **Finance:** Fraud detection, risk assessment, algorithmic trading, credit scoring, financial forecasting.\\n* **Healthcare:** Disease prediction, patient risk stratification, drug discovery, medical imaging analysis.\\n* **Manufacturing:** Predictive maintenance, quality control, supply chain optimization, process improvement.\\n* **E-commerce:** Recommendation systems, product discovery, pricing optimization, customer service automation.\\n\\n**2. Research and Academia:**\\n\\n* **Scientific Research:** Analyzing large datasets in fields like astronomy, biology, physics, and climate science.\\n* **Social Sciences:** Studying social trends, public opinion, and human behavior through data analysis.\\n* **Education:** Personalizing learning experiences, identifying at-risk students, improving educational outcomes.\\n\\n**3. Technology:**\\n\\n* **Artificial Intelligence (AI):** Developing and training machine learning models for various applications.\\n* **Natural Language Processing (NLP):** Analyzing and understanding human language for tasks like chatbots, machine translation, and sentiment analysis.\\n* **Computer Vision:** Enabling computers to \"see\" and interpret images and videos for applications like self-driving cars and medical imaging.\\n\\n**4. Government and Public Sector:**\\n\\n* **Public Policy:** Analyzing data to inform policy decisions on issues like healthcare, education, and crime.\\n* **Urban Planning:** Using data to optimize transportation systems, manage resources, and improve city infrastructure.\\n* **Disaster Response:** Analyzing data to predict and respond to natural disasters.\\n\\n**5. Emerging Areas:**\\n\\n* **Data Ethics:** Addressing ethical concerns related to data collection, usage, and privacy.\\n* **Explainable AI (XAI):** Making AI models more transparent and understandable to humans.\\n* **Quantum Computing:** Leveraging the power of quantum computers for advanced data analysis.\\n\\n**Skills Required in Data Science:**\\n\\n* **Programming:** Python, R, SQL\\n* **Statistics and Mathematics:** Probability, linear algebra, calculus\\n* **Data Visualization:** Tableau, Power BI\\n* **Machine Learning:** Supervised and unsupervised learning algorithms\\n* **Domain Expertise:** Understanding the specific industry or field of application\\n\\n**The future of data science is bright.** As the amount of data continues to grow exponentially, the demand for skilled data scientists will continue to rise.\\n\\n\\nLet me know if you have any more specific questions about the scope of data science.\\n', additional_kwargs={}, response_metadata={'token_usage': {'completion_tokens': 542, 'prompt_tokens': 15, 'total_tokens': 557, 'completion_time': 0.985454545, 'prompt_time': 0.001249897, 'queue_time': 0.255792232, 'total_time': 0.986704442}, 'model_name': 'Gemma2-9b-It', 'system_fingerprint': 'fp_10c08bf97d', 'service_tier': 'on_demand', 'finish_reason': 'stop', 'logprobs': None}, id='run--1155c900-37b0-486a-a9a7-b9259118ec3b-0', usage_metadata={'input_tokens': 15, 'output_tokens': 542, 'total_tokens': 557})}])\n",
      "content='The scope of data science is incredibly broad and continues to expand rapidly. It touches nearly every aspect of modern life and business. Here\\'s a breakdown of its key areas:\\n\\n**1. Business and Industry:**\\n\\n* **Marketing & Sales:** Customer segmentation, personalized recommendations, churn prediction, campaign optimization.\\n* **Finance:** Fraud detection, risk assessment, algorithmic trading, credit scoring, financial forecasting.\\n* **Healthcare:** Disease prediction, patient risk stratification, drug discovery, medical imaging analysis.\\n* **Manufacturing:** Predictive maintenance, quality control, supply chain optimization, process improvement.\\n* **E-commerce:** Recommendation systems, product discovery, pricing optimization, customer service automation.\\n\\n**2. Research and Academia:**\\n\\n* **Scientific Research:** Analyzing large datasets in fields like astronomy, biology, physics, and climate science.\\n* **Social Sciences:** Studying social trends, public opinion, and human behavior through data analysis.\\n* **Education:** Personalizing learning experiences, identifying at-risk students, improving educational outcomes.\\n\\n**3. Technology:**\\n\\n* **Artificial Intelligence (AI):** Developing and training machine learning models for various applications.\\n* **Natural Language Processing (NLP):** Analyzing and understanding human language for tasks like chatbots, machine translation, and sentiment analysis.\\n* **Computer Vision:** Enabling computers to \"see\" and interpret images and videos for applications like self-driving cars and medical imaging.\\n\\n**4. Government and Public Sector:**\\n\\n* **Public Policy:** Analyzing data to inform policy decisions on issues like healthcare, education, and crime.\\n* **Urban Planning:** Using data to optimize transportation systems, manage resources, and improve city infrastructure.\\n* **Disaster Response:** Analyzing data to predict and respond to natural disasters.\\n\\n**5. Emerging Areas:**\\n\\n* **Data Ethics:** Addressing ethical concerns related to data collection, usage, and privacy.\\n* **Explainable AI (XAI):** Making AI models more transparent and understandable to humans.\\n* **Quantum Computing:** Leveraging the power of quantum computers for advanced data analysis.\\n\\n**Skills Required in Data Science:**\\n\\n* **Programming:** Python, R, SQL\\n* **Statistics and Mathematics:** Probability, linear algebra, calculus\\n* **Data Visualization:** Tableau, Power BI\\n* **Machine Learning:** Supervised and unsupervised learning algorithms\\n* **Domain Expertise:** Understanding the specific industry or field of application\\n\\n**The future of data science is bright.** As the amount of data continues to grow exponentially, the demand for skilled data scientists will continue to rise.\\n\\n\\nLet me know if you have any more specific questions about the scope of data science.\\n' additional_kwargs={} response_metadata={'token_usage': {'completion_tokens': 542, 'prompt_tokens': 15, 'total_tokens': 557, 'completion_time': 0.985454545, 'prompt_time': 0.001249897, 'queue_time': 0.255792232, 'total_time': 0.986704442}, 'model_name': 'Gemma2-9b-It', 'system_fingerprint': 'fp_10c08bf97d', 'service_tier': 'on_demand', 'finish_reason': 'stop', 'logprobs': None} id='run--1155c900-37b0-486a-a9a7-b9259118ec3b-0' usage_metadata={'input_tokens': 15, 'output_tokens': 542, 'total_tokens': 557}\n",
      "Assistant: The scope of data science is incredibly broad and continues to expand rapidly. It touches nearly every aspect of modern life and business. Here's a breakdown of its key areas:\n",
      "\n",
      "**1. Business and Industry:**\n",
      "\n",
      "* **Marketing & Sales:** Customer segmentation, personalized recommendations, churn prediction, campaign optimization.\n",
      "* **Finance:** Fraud detection, risk assessment, algorithmic trading, credit scoring, financial forecasting.\n",
      "* **Healthcare:** Disease prediction, patient risk stratification, drug discovery, medical imaging analysis.\n",
      "* **Manufacturing:** Predictive maintenance, quality control, supply chain optimization, process improvement.\n",
      "* **E-commerce:** Recommendation systems, product discovery, pricing optimization, customer service automation.\n",
      "\n",
      "**2. Research and Academia:**\n",
      "\n",
      "* **Scientific Research:** Analyzing large datasets in fields like astronomy, biology, physics, and climate science.\n",
      "* **Social Sciences:** Studying social trends, public opinion, and human behavior through data analysis.\n",
      "* **Education:** Personalizing learning experiences, identifying at-risk students, improving educational outcomes.\n",
      "\n",
      "**3. Technology:**\n",
      "\n",
      "* **Artificial Intelligence (AI):** Developing and training machine learning models for various applications.\n",
      "* **Natural Language Processing (NLP):** Analyzing and understanding human language for tasks like chatbots, machine translation, and sentiment analysis.\n",
      "* **Computer Vision:** Enabling computers to \"see\" and interpret images and videos for applications like self-driving cars and medical imaging.\n",
      "\n",
      "**4. Government and Public Sector:**\n",
      "\n",
      "* **Public Policy:** Analyzing data to inform policy decisions on issues like healthcare, education, and crime.\n",
      "* **Urban Planning:** Using data to optimize transportation systems, manage resources, and improve city infrastructure.\n",
      "* **Disaster Response:** Analyzing data to predict and respond to natural disasters.\n",
      "\n",
      "**5. Emerging Areas:**\n",
      "\n",
      "* **Data Ethics:** Addressing ethical concerns related to data collection, usage, and privacy.\n",
      "* **Explainable AI (XAI):** Making AI models more transparent and understandable to humans.\n",
      "* **Quantum Computing:** Leveraging the power of quantum computers for advanced data analysis.\n",
      "\n",
      "**Skills Required in Data Science:**\n",
      "\n",
      "* **Programming:** Python, R, SQL\n",
      "* **Statistics and Mathematics:** Probability, linear algebra, calculus\n",
      "* **Data Visualization:** Tableau, Power BI\n",
      "* **Machine Learning:** Supervised and unsupervised learning algorithms\n",
      "* **Domain Expertise:** Understanding the specific industry or field of application\n",
      "\n",
      "**The future of data science is bright.** As the amount of data continues to grow exponentially, the demand for skilled data scientists will continue to rise.\n",
      "\n",
      "\n",
      "Let me know if you have any more specific questions about the scope of data science.\n",
      "\n",
      "dict_values([{'messages': AIMessage(content='Please provide me with more context! What about \"genai\" are you interested in?  \\n\\nFor example, do you want to know:\\n\\n* **What GenAI is?** (Generative Artificial Intelligence)\\n* **Examples of GenAI models?** (like me!)\\n* **How GenAI works?**\\n* **The potential applications of GenAI?**\\n* **The ethical concerns surrounding GenAI?**\\n\\n\\nOnce you tell me what you\\'d like to know, I can give you a helpful and informative answer. 😊 \\n', additional_kwargs={}, response_metadata={'token_usage': {'completion_tokens': 117, 'prompt_tokens': 12, 'total_tokens': 129, 'completion_time': 0.212727273, 'prompt_time': 0.001177387, 'queue_time': 0.255127663, 'total_time': 0.21390466}, 'model_name': 'Gemma2-9b-It', 'system_fingerprint': 'fp_10c08bf97d', 'service_tier': 'on_demand', 'finish_reason': 'stop', 'logprobs': None}, id='run--c38e31bb-2c8c-4935-9a44-b02f23cdbdc8-0', usage_metadata={'input_tokens': 12, 'output_tokens': 117, 'total_tokens': 129})}])\n",
      "content='Please provide me with more context! What about \"genai\" are you interested in?  \\n\\nFor example, do you want to know:\\n\\n* **What GenAI is?** (Generative Artificial Intelligence)\\n* **Examples of GenAI models?** (like me!)\\n* **How GenAI works?**\\n* **The potential applications of GenAI?**\\n* **The ethical concerns surrounding GenAI?**\\n\\n\\nOnce you tell me what you\\'d like to know, I can give you a helpful and informative answer. 😊 \\n' additional_kwargs={} response_metadata={'token_usage': {'completion_tokens': 117, 'prompt_tokens': 12, 'total_tokens': 129, 'completion_time': 0.212727273, 'prompt_time': 0.001177387, 'queue_time': 0.255127663, 'total_time': 0.21390466}, 'model_name': 'Gemma2-9b-It', 'system_fingerprint': 'fp_10c08bf97d', 'service_tier': 'on_demand', 'finish_reason': 'stop', 'logprobs': None} id='run--c38e31bb-2c8c-4935-9a44-b02f23cdbdc8-0' usage_metadata={'input_tokens': 12, 'output_tokens': 117, 'total_tokens': 129}\n",
      "Assistant: Please provide me with more context! What about \"genai\" are you interested in?  \n",
      "\n",
      "For example, do you want to know:\n",
      "\n",
      "* **What GenAI is?** (Generative Artificial Intelligence)\n",
      "* **Examples of GenAI models?** (like me!)\n",
      "* **How GenAI works?**\n",
      "* **The potential applications of GenAI?**\n",
      "* **The ethical concerns surrounding GenAI?**\n",
      "\n",
      "\n",
      "Once you tell me what you'd like to know, I can give you a helpful and informative answer. 😊 \n",
      "\n",
      "dict_values([{'messages': AIMessage(content=\"That's a broad question! What about AI are you interested in?\\n\\nTo give you a helpful answer, I need you to be more specific. For example, are you curious about:\\n\\n* **How AI works?** I can explain concepts like machine learning, deep learning, and natural language processing.\\n* **The potential benefits of AI?** We could discuss how AI is being used in healthcare, transportation, education, and other fields.\\n* **The risks of AI?** I can talk about concerns like job displacement, bias in algorithms, and the potential for misuse.\\n* **The future of AI?** We could speculate on how AI might evolve and impact society in the years to come.\\n* **My role as an AI?** I can tell you more about my capabilities and limitations as a large language model.\\n\\n\\nOnce you tell me what you'd like to know, I can provide a more informative and relevant response.\\n\", additional_kwargs={}, response_metadata={'token_usage': {'completion_tokens': 198, 'prompt_tokens': 12, 'total_tokens': 210, 'completion_time': 0.36, 'prompt_time': 0.001173787, 'queue_time': 0.256595413, 'total_time': 0.361173787}, 'model_name': 'Gemma2-9b-It', 'system_fingerprint': 'fp_10c08bf97d', 'service_tier': 'on_demand', 'finish_reason': 'stop', 'logprobs': None}, id='run--5e3f564d-bb7f-4b22-b3c8-1cac4c3b99ac-0', usage_metadata={'input_tokens': 12, 'output_tokens': 198, 'total_tokens': 210})}])\n",
      "content=\"That's a broad question! What about AI are you interested in?\\n\\nTo give you a helpful answer, I need you to be more specific. For example, are you curious about:\\n\\n* **How AI works?** I can explain concepts like machine learning, deep learning, and natural language processing.\\n* **The potential benefits of AI?** We could discuss how AI is being used in healthcare, transportation, education, and other fields.\\n* **The risks of AI?** I can talk about concerns like job displacement, bias in algorithms, and the potential for misuse.\\n* **The future of AI?** We could speculate on how AI might evolve and impact society in the years to come.\\n* **My role as an AI?** I can tell you more about my capabilities and limitations as a large language model.\\n\\n\\nOnce you tell me what you'd like to know, I can provide a more informative and relevant response.\\n\" additional_kwargs={} response_metadata={'token_usage': {'completion_tokens': 198, 'prompt_tokens': 12, 'total_tokens': 210, 'completion_time': 0.36, 'prompt_time': 0.001173787, 'queue_time': 0.256595413, 'total_time': 0.361173787}, 'model_name': 'Gemma2-9b-It', 'system_fingerprint': 'fp_10c08bf97d', 'service_tier': 'on_demand', 'finish_reason': 'stop', 'logprobs': None} id='run--5e3f564d-bb7f-4b22-b3c8-1cac4c3b99ac-0' usage_metadata={'input_tokens': 12, 'output_tokens': 198, 'total_tokens': 210}\n",
      "Assistant: That's a broad question! What about AI are you interested in?\n",
      "\n",
      "To give you a helpful answer, I need you to be more specific. For example, are you curious about:\n",
      "\n",
      "* **How AI works?** I can explain concepts like machine learning, deep learning, and natural language processing.\n",
      "* **The potential benefits of AI?** We could discuss how AI is being used in healthcare, transportation, education, and other fields.\n",
      "* **The risks of AI?** I can talk about concerns like job displacement, bias in algorithms, and the potential for misuse.\n",
      "* **The future of AI?** We could speculate on how AI might evolve and impact society in the years to come.\n",
      "* **My role as an AI?** I can tell you more about my capabilities and limitations as a large language model.\n",
      "\n",
      "\n",
      "Once you tell me what you'd like to know, I can provide a more informative and relevant response.\n",
      "\n",
      "Good Bye\n"
     ]
    }
   ],
   "source": [
    "while True:\n",
    "  user_input=input(\"User: \")\n",
    "  if user_input.lower() in [\"quit\",\"q\"]:\n",
    "    print(\"Good Bye\")\n",
    "    break\n",
    "  for event in graph.stream({'messages':(\"user\",user_input)}):\n",
    "    print(event.values())\n",
    "    for value in event.values():\n",
    "      print(value['messages'])\n",
    "      print(\"Assistant:\",value[\"messages\"].content)"
   ]
  },
  {
   "cell_type": "code",
   "execution_count": null,
   "id": "e986097e",
   "metadata": {},
   "outputs": [],
   "source": []
  }
 ],
 "metadata": {
  "kernelspec": {
   "display_name": "virtual_env",
   "language": "python",
   "name": "python3"
  },
  "language_info": {
   "codemirror_mode": {
    "name": "ipython",
    "version": 3
   },
   "file_extension": ".py",
   "mimetype": "text/x-python",
   "name": "python",
   "nbconvert_exporter": "python",
   "pygments_lexer": "ipython3",
   "version": "3.12.7"
  }
 },
 "nbformat": 4,
 "nbformat_minor": 5
}
