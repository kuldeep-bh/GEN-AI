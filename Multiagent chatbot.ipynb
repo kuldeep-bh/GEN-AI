{
 "cells": [
  {
   "cell_type": "code",
   "execution_count": 1,
   "id": "55d5a962",
   "metadata": {},
   "outputs": [],
   "source": [
    "from langchain_groq import ChatGroq\n",
    "from typing import Annotated\n",
    "from typing_extensions import TypedDict\n",
    "from langgraph.graph import StateGraph, START, END\n",
    "from langgraph.graph.message import add_messages\n",
    "from IPython.display import Image, display"
   ]
  },
  {
   "cell_type": "code",
   "execution_count": null,
   "id": "2ab740e0",
   "metadata": {},
   "outputs": [],
   "source": [
    "groq_api_key = 'gsk..................kg'\n",
    "llm = ChatGroq(groq_api_key=groq_api_key, model_name=\"Gemma2-9b-It\")"
   ]
  },
  {
   "cell_type": "code",
   "execution_count": 3,
   "id": "5ba60bfb",
   "metadata": {},
   "outputs": [],
   "source": [
    "class State(TypedDict):\n",
    "    messages: Annotated[list, add_messages]\n",
    "    sentiment: str\n",
    "\n",
    "# 1. Preprocessing Node\n",
    "def preprocess(state: State) -> State:\n",
    "    cleaned = state[\"messages\"][-1].content.strip()\n",
    "    state[\"messages\"][-1].content = cleaned\n",
    "    return state\n",
    "\n",
    "# 2. Sentiment Analysis Node\n",
    "def analyze_sentiment(state: State) -> State:\n",
    "    msg = state[\"messages\"][-1].content\n",
    "    state[\"sentiment\"] = \"positive\" if \"good\" in msg else \"neutral\"\n",
    "    return state\n",
    "\n",
    "# 3. Chatbot Node\n",
    "def chatbot(state: State) -> State:\n",
    "    return {\"messages\": llm.invoke(state['messages'])}\n",
    "\n",
    "# 4. Logging Node\n",
    "def logger(state: State) -> State:\n",
    "    print(f\"LOG: {state['messages'][-1].content}, Sentiment: {state.get('sentiment')}\")\n",
    "    return state"
   ]
  },
  {
   "cell_type": "code",
   "execution_count": 4,
   "id": "824107d0",
   "metadata": {},
   "outputs": [
    {
     "data": {
      "text/plain": [
       "<langgraph.graph.state.StateGraph at 0x2730ce1c560>"
      ]
     },
     "execution_count": 4,
     "metadata": {},
     "output_type": "execute_result"
    }
   ],
   "source": [
    "# Build the graph\n",
    "builder = StateGraph(State)\n",
    "builder.add_node(\"preprocess\", preprocess)\n",
    "builder.add_node(\"analyze_sentiment\", analyze_sentiment)  # renamed\n",
    "builder.add_node(\"chatbot\", chatbot)\n",
    "builder.add_node(\"logger\", logger)"
   ]
  },
  {
   "cell_type": "code",
   "execution_count": 5,
   "id": "43fe3d23",
   "metadata": {},
   "outputs": [
    {
     "data": {
      "text/plain": [
       "<langgraph.graph.state.StateGraph at 0x2730ce1c560>"
      ]
     },
     "execution_count": 5,
     "metadata": {},
     "output_type": "execute_result"
    }
   ],
   "source": [
    "# Define flow\n",
    "builder.add_edge(START, \"preprocess\")\n",
    "builder.add_edge(\"preprocess\", \"analyze_sentiment\")  # renamed\n",
    "builder.add_edge(\"analyze_sentiment\", \"chatbot\")     # renamed\n",
    "builder.add_edge(\"chatbot\", \"logger\")\n",
    "builder.add_edge(\"logger\", END)"
   ]
  },
  {
   "cell_type": "code",
   "execution_count": 6,
   "id": "99a7fdbc",
   "metadata": {},
   "outputs": [],
   "source": [
    "graph = builder.compile()"
   ]
  },
  {
   "cell_type": "code",
   "execution_count": 7,
   "id": "9ca7fbfc",
   "metadata": {},
   "outputs": [],
   "source": [
    "# Draw the graph\n",
    "try:\n",
    "    display(Image(graph.get_graph().draw_mermaid_png()))\n",
    "except Exception:\n",
    "    pass"
   ]
  },
  {
   "cell_type": "code",
   "execution_count": 9,
   "id": "08860390",
   "metadata": {},
   "outputs": [
    {
     "name": "stdout",
     "output_type": "stream",
     "text": [
      "LOG: Hello Kuldeep Singh! 👋 \n",
      "\n",
      "It's nice to meet you. \n",
      "\n",
      "Is there anything I can help you with today? 😊\n",
      ", Sentiment: neutral\n",
      "Final State: {'messages': [HumanMessage(content='i am kuldeep singh.', additional_kwargs={}, response_metadata={}, id='d711a173-2bc5-4c45-aae2-6717b1b5b96e'), AIMessage(content=\"Hello Kuldeep Singh! 👋 \\n\\nIt's nice to meet you. \\n\\nIs there anything I can help you with today? 😊\\n\", additional_kwargs={}, response_metadata={'token_usage': {'completion_tokens': 32, 'prompt_tokens': 15, 'total_tokens': 47, 'completion_time': 0.058181818, 'prompt_time': 0.001250977, 'queue_time': 0.258194712, 'total_time': 0.059432795}, 'model_name': 'Gemma2-9b-It', 'system_fingerprint': 'fp_10c08bf97d', 'service_tier': 'on_demand', 'finish_reason': 'stop', 'logprobs': None}, id='run--2f817832-411e-4bd2-8107-dfba1e470df2-0', usage_metadata={'input_tokens': 15, 'output_tokens': 32, 'total_tokens': 47})], 'sentiment': 'neutral'}\n",
      "Chatbot's response: Hello Kuldeep Singh! 👋 \n",
      "\n",
      "It's nice to meet you. \n",
      "\n",
      "Is there anything I can help you with today? 😊\n",
      "\n",
      "Detected Sentiment: neutral\n",
      "LOG: It sounds like you enjoy rainy weather! 🌧️  \n",
      "\n",
      "Many people find rainy days cozy and relaxing. What do you like most about rainy weather? \n",
      "\n",
      ", Sentiment: positive\n",
      "Final State 2: {'messages': [HumanMessage(content='rainy weather i vrey good.', additional_kwargs={}, response_metadata={}, id='18affc1d-22ce-450d-b808-568699b1ef82'), AIMessage(content='It sounds like you enjoy rainy weather! 🌧️  \\n\\nMany people find rainy days cozy and relaxing. What do you like most about rainy weather? \\n\\n', additional_kwargs={}, response_metadata={'token_usage': {'completion_tokens': 36, 'prompt_tokens': 16, 'total_tokens': 52, 'completion_time': 0.065454545, 'prompt_time': 0.001257227, 'queue_time': 0.251977552, 'total_time': 0.066711772}, 'model_name': 'Gemma2-9b-It', 'system_fingerprint': 'fp_10c08bf97d', 'service_tier': 'on_demand', 'finish_reason': 'stop', 'logprobs': None}, id='run--888e2721-9f55-4a9f-abdd-a9358c43122c-0', usage_metadata={'input_tokens': 16, 'output_tokens': 36, 'total_tokens': 52})], 'sentiment': 'positive'}\n",
      "Chatbot's response 2: It sounds like you enjoy rainy weather! 🌧️  \n",
      "\n",
      "Many people find rainy days cozy and relaxing. What do you like most about rainy weather? \n",
      "\n",
      "\n",
      "Detected Sentiment 2: positive\n"
     ]
    }
   ],
   "source": [
    "# Invoke the graph\n",
    "input_message = \"i am kuldeep singh.\"\n",
    "final_state = graph.invoke({\"messages\": (\"user\", input_message)})\n",
    "\n",
    "# Print the final state\n",
    "print(\"Final State:\", final_state)\n",
    "print(\"Chatbot's response:\", final_state['messages'][-1].content)\n",
    "print(\"Detected Sentiment:\", final_state['sentiment'])\n",
    "\n",
    "input_message_2 = \"rainy weather i vrey good.\"\n",
    "final_state_2 = graph.invoke({\"messages\": (\"user\", input_message_2)})\n",
    "print(\"Final State 2:\", final_state_2)\n",
    "print(\"Chatbot's response 2:\", final_state_2['messages'][-1].content)\n",
    "print(\"Detected Sentiment 2:\", final_state_2['sentiment'])"
   ]
  },
  {
   "cell_type": "code",
   "execution_count": 10,
   "id": "0b65afc0",
   "metadata": {},
   "outputs": [
    {
     "name": "stdout",
     "output_type": "stream",
     "text": [
      "LOG: That's nice! I'm glad you have a friend named Ajay.  \n",
      "\n",
      "Is there anything you'd like to tell me about Ajay?  For example:\n",
      "\n",
      "* What do you like to do together?\n",
      "* What are some of his best qualities?\n",
      "* Do you have a funny story about him? \n",
      "\n",
      "\n",
      "I'm always happy to hear about people's friends! 😊 \n",
      ", Sentiment: neutral\n",
      "Final State: {'messages': [HumanMessage(content='my frend ajay.', additional_kwargs={}, response_metadata={}, id='6686bc9c-659f-4a6d-843a-bf751de33c98'), AIMessage(content=\"That's nice! I'm glad you have a friend named Ajay.  \\n\\nIs there anything you'd like to tell me about Ajay?  For example:\\n\\n* What do you like to do together?\\n* What are some of his best qualities?\\n* Do you have a funny story about him? \\n\\n\\nI'm always happy to hear about people's friends! 😊 \\n\", additional_kwargs={}, response_metadata={'token_usage': {'completion_tokens': 86, 'prompt_tokens': 15, 'total_tokens': 101, 'completion_time': 0.156363636, 'prompt_time': 0.001256748, 'queue_time': 0.251591671, 'total_time': 0.157620384}, 'model_name': 'Gemma2-9b-It', 'system_fingerprint': 'fp_10c08bf97d', 'service_tier': 'on_demand', 'finish_reason': 'stop', 'logprobs': None}, id='run--62b3953f-0590-4bcb-940f-64e484a6dddc-0', usage_metadata={'input_tokens': 15, 'output_tokens': 86, 'total_tokens': 101})], 'sentiment': 'neutral'}\n",
      "Chatbot's response: That's nice! I'm glad you have a friend named Ajay.  \n",
      "\n",
      "Is there anything you'd like to tell me about Ajay?  For example:\n",
      "\n",
      "* What do you like to do together?\n",
      "* What are some of his best qualities?\n",
      "* Do you have a funny story about him? \n",
      "\n",
      "\n",
      "I'm always happy to hear about people's friends! 😊 \n",
      "\n",
      "Detected Sentiment: neutral\n",
      "LOG: As a language model, I don't have personal preferences like liking or disliking seasons.  \n",
      "\n",
      "Do you dislike winter?  What is it about winter that you don't enjoy? \n",
      "\n",
      ", Sentiment: neutral\n",
      "Final State 2: {'messages': [HumanMessage(content='doesnt like winter.', additional_kwargs={}, response_metadata={}, id='9500b3c7-95db-4f8f-afa2-334e142ebf66'), AIMessage(content=\"As a language model, I don't have personal preferences like liking or disliking seasons.  \\n\\nDo you dislike winter?  What is it about winter that you don't enjoy? \\n\\n\", additional_kwargs={}, response_metadata={'token_usage': {'completion_tokens': 45, 'prompt_tokens': 14, 'total_tokens': 59, 'completion_time': 0.081818182, 'prompt_time': 0.001257347, 'queue_time': 0.252121692, 'total_time': 0.083075529}, 'model_name': 'Gemma2-9b-It', 'system_fingerprint': 'fp_10c08bf97d', 'service_tier': 'on_demand', 'finish_reason': 'stop', 'logprobs': None}, id='run--9dcf7a2a-27a5-4599-b683-79f59d63b1a2-0', usage_metadata={'input_tokens': 14, 'output_tokens': 45, 'total_tokens': 59})], 'sentiment': 'neutral'}\n",
      "Chatbot's response 2: As a language model, I don't have personal preferences like liking or disliking seasons.  \n",
      "\n",
      "Do you dislike winter?  What is it about winter that you don't enjoy? \n",
      "\n",
      "\n",
      "Detected Sentiment 2: neutral\n"
     ]
    }
   ],
   "source": [
    "# Invoke the graph\n",
    "input_message = \"my frend ajay.\"\n",
    "final_state = graph.invoke({\"messages\": (\"user\", input_message)})\n",
    "\n",
    "# Print the final state\n",
    "print(\"Final State:\", final_state)\n",
    "print(\"Chatbot's response:\", final_state['messages'][-1].content)\n",
    "print(\"Detected Sentiment:\", final_state['sentiment'])\n",
    "\n",
    "input_message_2 = \"doesnt like winter.\"\n",
    "final_state_2 = graph.invoke({\"messages\": (\"user\", input_message_2)})\n",
    "print(\"Final State 2:\", final_state_2)\n",
    "print(\"Chatbot's response 2:\", final_state_2['messages'][-1].content)\n",
    "print(\"Detected Sentiment 2:\", final_state_2['sentiment'])"
   ]
  },
  {
   "cell_type": "code",
   "execution_count": null,
   "id": "d8b0bae1",
   "metadata": {},
   "outputs": [],
   "source": []
  }
 ],
 "metadata": {
  "kernelspec": {
   "display_name": "virtual_env",
   "language": "python",
   "name": "python3"
  },
  "language_info": {
   "codemirror_mode": {
    "name": "ipython",
    "version": 3
   },
   "file_extension": ".py",
   "mimetype": "text/x-python",
   "name": "python",
   "nbconvert_exporter": "python",
   "pygments_lexer": "ipython3",
   "version": "3.12.7"
  }
 },
 "nbformat": 4,
 "nbformat_minor": 5
}
